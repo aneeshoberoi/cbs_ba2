{
  "nbformat": 4,
  "nbformat_minor": 0,
  "metadata": {
    "colab": {
      "name": "Philadelphia Police Dept.ipynb",
      "provenance": [],
      "authorship_tag": "ABX9TyPtMINWdxxmxEcN0ZFeg4KI",
      "include_colab_link": true
    },
    "kernelspec": {
      "name": "python3",
      "display_name": "Python 3"
    }
  },
  "cells": [
    {
      "cell_type": "markdown",
      "metadata": {
        "id": "view-in-github",
        "colab_type": "text"
      },
      "source": [
        "<a href=\"https://colab.research.google.com/github/aneeshoberoi/cbs_ba2/blob/master/Philadelphia_Police_Dept.ipynb\" target=\"_parent\"><img src=\"https://colab.research.google.com/assets/colab-badge.svg\" alt=\"Open In Colab\"/></a>"
      ]
    },
    {
      "cell_type": "markdown",
      "metadata": {
        "id": "7hJ-NNfaJWZu",
        "colab_type": "text"
      },
      "source": [
        "**Is there evidence of racial disparity in the Philadelphia Police Dept. today?\n",
        "Scope: Traffic stops by PPD between 2014-2017"
      ]
    },
    {
      "cell_type": "code",
      "metadata": {
        "id": "2ak2DfHJJP4Y",
        "colab_type": "code",
        "colab": {
          "base_uri": "https://localhost:8080/",
          "height": 121
        },
        "outputId": "95e24fb5-56db-4f4d-ad56-c91e41932b50"
      },
      "source": [
        "from google.colab import drive\n",
        "drive.mount('/content/gdrive')"
      ],
      "execution_count": 1,
      "outputs": [
        {
          "output_type": "stream",
          "text": [
            "Go to this URL in a browser: https://accounts.google.com/o/oauth2/auth?client_id=947318989803-6bn6qk8qdgf4n4g3pfee6491hc0brc4i.apps.googleusercontent.com&redirect_uri=urn%3aietf%3awg%3aoauth%3a2.0%3aoob&response_type=code&scope=email%20https%3a%2f%2fwww.googleapis.com%2fauth%2fdocs.test%20https%3a%2f%2fwww.googleapis.com%2fauth%2fdrive%20https%3a%2f%2fwww.googleapis.com%2fauth%2fdrive.photos.readonly%20https%3a%2f%2fwww.googleapis.com%2fauth%2fpeopleapi.readonly\n",
            "\n",
            "Enter your authorization code:\n",
            "··········\n",
            "Mounted at /content/gdrive\n"
          ],
          "name": "stdout"
        }
      ]
    },
    {
      "cell_type": "code",
      "metadata": {
        "id": "fEQPILcnLfta",
        "colab_type": "code",
        "colab": {
          "base_uri": "https://localhost:8080/",
          "height": 34
        },
        "outputId": "f5332b3b-d367-4b68-f23f-552c6be9b1df"
      },
      "source": [
        "!ls \"/content/gdrive/My Drive/BA2/Case data files/Module 1/Open Policing Project\""
      ],
      "execution_count": 15,
      "outputs": [
        {
          "output_type": "stream",
          "text": [
            "'File 1.csv'  'File 2.csv'  'File 3.csv'\n"
          ],
          "name": "stdout"
        }
      ]
    },
    {
      "cell_type": "code",
      "metadata": {
        "id": "750aDvhEM-0H",
        "colab_type": "code",
        "colab": {}
      },
      "source": [
        "import pandas as pd\n",
        "import datetime as dt\n",
        "import statsmodels.formula.api as sm"
      ],
      "execution_count": 59,
      "outputs": []
    },
    {
      "cell_type": "code",
      "metadata": {
        "id": "qrXvhSNOM0qU",
        "colab_type": "code",
        "colab": {}
      },
      "source": [
        "df_file1=pd.read_csv(\"/content/gdrive/My Drive/BA2/Case data files/Module 1/Open Policing Project/File 1.csv\", sep=',', parse_dates=[['date', 'time']])"
      ],
      "execution_count": 40,
      "outputs": []
    },
    {
      "cell_type": "code",
      "metadata": {
        "id": "CDFyER0aUoGn",
        "colab_type": "code",
        "colab": {
          "base_uri": "https://localhost:8080/",
          "height": 202
        },
        "outputId": "73b49d7c-5c82-4a1a-e40c-1f8e53465956"
      },
      "source": [
        "df_file1.dtypes"
      ],
      "execution_count": 43,
      "outputs": [
        {
          "output_type": "execute_result",
          "data": {
            "text/plain": [
              "date_time           datetime64[ns]\n",
              "location                    object\n",
              "lat                        float64\n",
              "lng                        float64\n",
              "district                     int64\n",
              "subject_age                float64\n",
              "subject_race                object\n",
              "subject_sex                 object\n",
              "search_conducted             int64\n",
              "contraband_found           float64\n",
              "dtype: object"
            ]
          },
          "metadata": {
            "tags": []
          },
          "execution_count": 43
        }
      ]
    },
    {
      "cell_type": "code",
      "metadata": {
        "id": "Uf2kIPIlUbK4",
        "colab_type": "code",
        "colab": {
          "base_uri": "https://localhost:8080/",
          "height": 431
        },
        "outputId": "d1d8d4dd-7b9b-4f82-d57f-2ee4e2aefbaf"
      },
      "source": [
        "df_file1.set_index(['date_time'], drop=False)"
      ],
      "execution_count": 44,
      "outputs": [
        {
          "output_type": "execute_result",
          "data": {
            "text/html": [
              "<div>\n",
              "<style scoped>\n",
              "    .dataframe tbody tr th:only-of-type {\n",
              "        vertical-align: middle;\n",
              "    }\n",
              "\n",
              "    .dataframe tbody tr th {\n",
              "        vertical-align: top;\n",
              "    }\n",
              "\n",
              "    .dataframe thead th {\n",
              "        text-align: right;\n",
              "    }\n",
              "</style>\n",
              "<table border=\"1\" class=\"dataframe\">\n",
              "  <thead>\n",
              "    <tr style=\"text-align: right;\">\n",
              "      <th></th>\n",
              "      <th>date_time</th>\n",
              "      <th>location</th>\n",
              "      <th>lat</th>\n",
              "      <th>lng</th>\n",
              "      <th>district</th>\n",
              "      <th>subject_age</th>\n",
              "      <th>subject_race</th>\n",
              "      <th>subject_sex</th>\n",
              "      <th>search_conducted</th>\n",
              "      <th>contraband_found</th>\n",
              "    </tr>\n",
              "    <tr>\n",
              "      <th>date_time</th>\n",
              "      <th></th>\n",
              "      <th></th>\n",
              "      <th></th>\n",
              "      <th></th>\n",
              "      <th></th>\n",
              "      <th></th>\n",
              "      <th></th>\n",
              "      <th></th>\n",
              "      <th></th>\n",
              "      <th></th>\n",
              "    </tr>\n",
              "  </thead>\n",
              "  <tbody>\n",
              "    <tr>\n",
              "      <th>2014-01-01 08:30:00</th>\n",
              "      <td>2014-01-01 08:30:00</td>\n",
              "      <td>N 56TH ST / UPLAND WAY</td>\n",
              "      <td>39.983712</td>\n",
              "      <td>-75.234188</td>\n",
              "      <td>19</td>\n",
              "      <td>31.0</td>\n",
              "      <td>black</td>\n",
              "      <td>male</td>\n",
              "      <td>0</td>\n",
              "      <td>NaN</td>\n",
              "    </tr>\n",
              "    <tr>\n",
              "      <th>2014-01-01 08:53:00</th>\n",
              "      <td>2014-01-01 08:53:00</td>\n",
              "      <td>CHESTNUT ST  / S SCHUYLKILL AV W</td>\n",
              "      <td>39.953124</td>\n",
              "      <td>-75.181936</td>\n",
              "      <td>18</td>\n",
              "      <td>38.0</td>\n",
              "      <td>black</td>\n",
              "      <td>male</td>\n",
              "      <td>0</td>\n",
              "      <td>NaN</td>\n",
              "    </tr>\n",
              "    <tr>\n",
              "      <th>2014-01-01 09:00:00</th>\n",
              "      <td>2014-01-01 09:00:00</td>\n",
              "      <td>N 52ND ST / GAINOR RD</td>\n",
              "      <td>39.989757</td>\n",
              "      <td>-75.229019</td>\n",
              "      <td>19</td>\n",
              "      <td>19.0</td>\n",
              "      <td>black</td>\n",
              "      <td>male</td>\n",
              "      <td>0</td>\n",
              "      <td>NaN</td>\n",
              "    </tr>\n",
              "    <tr>\n",
              "      <th>2014-01-01 09:45:00</th>\n",
              "      <td>2014-01-01 09:45:00</td>\n",
              "      <td>N 56TH ST / LANCASTER AV</td>\n",
              "      <td>39.980411</td>\n",
              "      <td>-75.234049</td>\n",
              "      <td>19</td>\n",
              "      <td>44.0</td>\n",
              "      <td>black</td>\n",
              "      <td>male</td>\n",
              "      <td>0</td>\n",
              "      <td>NaN</td>\n",
              "    </tr>\n",
              "    <tr>\n",
              "      <th>2014-01-01 10:10:00</th>\n",
              "      <td>2014-01-01 10:10:00</td>\n",
              "      <td>5600 BLOCK CHRISTIAN ST</td>\n",
              "      <td>39.948407</td>\n",
              "      <td>-75.235530</td>\n",
              "      <td>18</td>\n",
              "      <td>33.0</td>\n",
              "      <td>black</td>\n",
              "      <td>male</td>\n",
              "      <td>0</td>\n",
              "      <td>NaN</td>\n",
              "    </tr>\n",
              "    <tr>\n",
              "      <th>...</th>\n",
              "      <td>...</td>\n",
              "      <td>...</td>\n",
              "      <td>...</td>\n",
              "      <td>...</td>\n",
              "      <td>...</td>\n",
              "      <td>...</td>\n",
              "      <td>...</td>\n",
              "      <td>...</td>\n",
              "      <td>...</td>\n",
              "      <td>...</td>\n",
              "    </tr>\n",
              "    <tr>\n",
              "      <th>2017-12-31 23:40:00</th>\n",
              "      <td>2017-12-31 23:40:00</td>\n",
              "      <td>300 BLOCK N 63RD ST</td>\n",
              "      <td>39.967380</td>\n",
              "      <td>-75.245838</td>\n",
              "      <td>19</td>\n",
              "      <td>63.0</td>\n",
              "      <td>black</td>\n",
              "      <td>male</td>\n",
              "      <td>0</td>\n",
              "      <td>NaN</td>\n",
              "    </tr>\n",
              "    <tr>\n",
              "      <th>2017-12-31 23:41:00</th>\n",
              "      <td>2017-12-31 23:41:00</td>\n",
              "      <td>4100 BLOCK N BROAD ST</td>\n",
              "      <td>40.015354</td>\n",
              "      <td>-75.149985</td>\n",
              "      <td>39</td>\n",
              "      <td>60.0</td>\n",
              "      <td>black</td>\n",
              "      <td>female</td>\n",
              "      <td>0</td>\n",
              "      <td>NaN</td>\n",
              "    </tr>\n",
              "    <tr>\n",
              "      <th>2017-12-31 23:45:00</th>\n",
              "      <td>2017-12-31 23:45:00</td>\n",
              "      <td>300 BLOCK E GURNEY ST</td>\n",
              "      <td>39.990239</td>\n",
              "      <td>-75.125950</td>\n",
              "      <td>24</td>\n",
              "      <td>34.0</td>\n",
              "      <td>hispanic</td>\n",
              "      <td>male</td>\n",
              "      <td>0</td>\n",
              "      <td>NaN</td>\n",
              "    </tr>\n",
              "    <tr>\n",
              "      <th>2017-12-31 23:50:00</th>\n",
              "      <td>2017-12-31 23:50:00</td>\n",
              "      <td>4700 BLOCK D ST</td>\n",
              "      <td>40.020590</td>\n",
              "      <td>-75.116298</td>\n",
              "      <td>25</td>\n",
              "      <td>26.0</td>\n",
              "      <td>hispanic</td>\n",
              "      <td>male</td>\n",
              "      <td>1</td>\n",
              "      <td>0.0</td>\n",
              "    </tr>\n",
              "    <tr>\n",
              "      <th>2017-12-31 23:52:00</th>\n",
              "      <td>2017-12-31 23:52:00</td>\n",
              "      <td>NaN</td>\n",
              "      <td>NaN</td>\n",
              "      <td>NaN</td>\n",
              "      <td>22</td>\n",
              "      <td>22.0</td>\n",
              "      <td>black</td>\n",
              "      <td>male</td>\n",
              "      <td>0</td>\n",
              "      <td>NaN</td>\n",
              "    </tr>\n",
              "  </tbody>\n",
              "</table>\n",
              "<p>1034482 rows × 10 columns</p>\n",
              "</div>"
            ],
            "text/plain": [
              "                              date_time  ... contraband_found\n",
              "date_time                                ...                 \n",
              "2014-01-01 08:30:00 2014-01-01 08:30:00  ...              NaN\n",
              "2014-01-01 08:53:00 2014-01-01 08:53:00  ...              NaN\n",
              "2014-01-01 09:00:00 2014-01-01 09:00:00  ...              NaN\n",
              "2014-01-01 09:45:00 2014-01-01 09:45:00  ...              NaN\n",
              "2014-01-01 10:10:00 2014-01-01 10:10:00  ...              NaN\n",
              "...                                 ...  ...              ...\n",
              "2017-12-31 23:40:00 2017-12-31 23:40:00  ...              NaN\n",
              "2017-12-31 23:41:00 2017-12-31 23:41:00  ...              NaN\n",
              "2017-12-31 23:45:00 2017-12-31 23:45:00  ...              NaN\n",
              "2017-12-31 23:50:00 2017-12-31 23:50:00  ...              0.0\n",
              "2017-12-31 23:52:00 2017-12-31 23:52:00  ...              NaN\n",
              "\n",
              "[1034482 rows x 10 columns]"
            ]
          },
          "metadata": {
            "tags": []
          },
          "execution_count": 44
        }
      ]
    },
    {
      "cell_type": "code",
      "metadata": {
        "id": "ZzSfTUE9NCF8",
        "colab_type": "code",
        "colab": {
          "base_uri": "https://localhost:8080/",
          "height": 195
        },
        "outputId": "e57da1d5-5dc3-4830-b32a-81d28180698c"
      },
      "source": [
        "df_file1.head(5)"
      ],
      "execution_count": 45,
      "outputs": [
        {
          "output_type": "execute_result",
          "data": {
            "text/html": [
              "<div>\n",
              "<style scoped>\n",
              "    .dataframe tbody tr th:only-of-type {\n",
              "        vertical-align: middle;\n",
              "    }\n",
              "\n",
              "    .dataframe tbody tr th {\n",
              "        vertical-align: top;\n",
              "    }\n",
              "\n",
              "    .dataframe thead th {\n",
              "        text-align: right;\n",
              "    }\n",
              "</style>\n",
              "<table border=\"1\" class=\"dataframe\">\n",
              "  <thead>\n",
              "    <tr style=\"text-align: right;\">\n",
              "      <th></th>\n",
              "      <th>date_time</th>\n",
              "      <th>location</th>\n",
              "      <th>lat</th>\n",
              "      <th>lng</th>\n",
              "      <th>district</th>\n",
              "      <th>subject_age</th>\n",
              "      <th>subject_race</th>\n",
              "      <th>subject_sex</th>\n",
              "      <th>search_conducted</th>\n",
              "      <th>contraband_found</th>\n",
              "    </tr>\n",
              "  </thead>\n",
              "  <tbody>\n",
              "    <tr>\n",
              "      <th>0</th>\n",
              "      <td>2014-01-01 08:30:00</td>\n",
              "      <td>N 56TH ST / UPLAND WAY</td>\n",
              "      <td>39.983712</td>\n",
              "      <td>-75.234188</td>\n",
              "      <td>19</td>\n",
              "      <td>31.0</td>\n",
              "      <td>black</td>\n",
              "      <td>male</td>\n",
              "      <td>0</td>\n",
              "      <td>NaN</td>\n",
              "    </tr>\n",
              "    <tr>\n",
              "      <th>1</th>\n",
              "      <td>2014-01-01 08:53:00</td>\n",
              "      <td>CHESTNUT ST  / S SCHUYLKILL AV W</td>\n",
              "      <td>39.953124</td>\n",
              "      <td>-75.181936</td>\n",
              "      <td>18</td>\n",
              "      <td>38.0</td>\n",
              "      <td>black</td>\n",
              "      <td>male</td>\n",
              "      <td>0</td>\n",
              "      <td>NaN</td>\n",
              "    </tr>\n",
              "    <tr>\n",
              "      <th>2</th>\n",
              "      <td>2014-01-01 09:00:00</td>\n",
              "      <td>N 52ND ST / GAINOR RD</td>\n",
              "      <td>39.989757</td>\n",
              "      <td>-75.229019</td>\n",
              "      <td>19</td>\n",
              "      <td>19.0</td>\n",
              "      <td>black</td>\n",
              "      <td>male</td>\n",
              "      <td>0</td>\n",
              "      <td>NaN</td>\n",
              "    </tr>\n",
              "    <tr>\n",
              "      <th>3</th>\n",
              "      <td>2014-01-01 09:45:00</td>\n",
              "      <td>N 56TH ST / LANCASTER AV</td>\n",
              "      <td>39.980411</td>\n",
              "      <td>-75.234049</td>\n",
              "      <td>19</td>\n",
              "      <td>44.0</td>\n",
              "      <td>black</td>\n",
              "      <td>male</td>\n",
              "      <td>0</td>\n",
              "      <td>NaN</td>\n",
              "    </tr>\n",
              "    <tr>\n",
              "      <th>4</th>\n",
              "      <td>2014-01-01 10:10:00</td>\n",
              "      <td>5600 BLOCK CHRISTIAN ST</td>\n",
              "      <td>39.948407</td>\n",
              "      <td>-75.235530</td>\n",
              "      <td>18</td>\n",
              "      <td>33.0</td>\n",
              "      <td>black</td>\n",
              "      <td>male</td>\n",
              "      <td>0</td>\n",
              "      <td>NaN</td>\n",
              "    </tr>\n",
              "  </tbody>\n",
              "</table>\n",
              "</div>"
            ],
            "text/plain": [
              "            date_time  ... contraband_found\n",
              "0 2014-01-01 08:30:00  ...              NaN\n",
              "1 2014-01-01 08:53:00  ...              NaN\n",
              "2 2014-01-01 09:00:00  ...              NaN\n",
              "3 2014-01-01 09:45:00  ...              NaN\n",
              "4 2014-01-01 10:10:00  ...              NaN\n",
              "\n",
              "[5 rows x 10 columns]"
            ]
          },
          "metadata": {
            "tags": []
          },
          "execution_count": 45
        }
      ]
    },
    {
      "cell_type": "code",
      "metadata": {
        "id": "1lZ4PK7oO2bP",
        "colab_type": "code",
        "colab": {
          "base_uri": "https://localhost:8080/",
          "height": 431
        },
        "outputId": "de197007-d171-4820-f23b-c1fbfc96a87a"
      },
      "source": [
        "df_file1.set_index('date_time')"
      ],
      "execution_count": 46,
      "outputs": [
        {
          "output_type": "execute_result",
          "data": {
            "text/html": [
              "<div>\n",
              "<style scoped>\n",
              "    .dataframe tbody tr th:only-of-type {\n",
              "        vertical-align: middle;\n",
              "    }\n",
              "\n",
              "    .dataframe tbody tr th {\n",
              "        vertical-align: top;\n",
              "    }\n",
              "\n",
              "    .dataframe thead th {\n",
              "        text-align: right;\n",
              "    }\n",
              "</style>\n",
              "<table border=\"1\" class=\"dataframe\">\n",
              "  <thead>\n",
              "    <tr style=\"text-align: right;\">\n",
              "      <th></th>\n",
              "      <th>location</th>\n",
              "      <th>lat</th>\n",
              "      <th>lng</th>\n",
              "      <th>district</th>\n",
              "      <th>subject_age</th>\n",
              "      <th>subject_race</th>\n",
              "      <th>subject_sex</th>\n",
              "      <th>search_conducted</th>\n",
              "      <th>contraband_found</th>\n",
              "    </tr>\n",
              "    <tr>\n",
              "      <th>date_time</th>\n",
              "      <th></th>\n",
              "      <th></th>\n",
              "      <th></th>\n",
              "      <th></th>\n",
              "      <th></th>\n",
              "      <th></th>\n",
              "      <th></th>\n",
              "      <th></th>\n",
              "      <th></th>\n",
              "    </tr>\n",
              "  </thead>\n",
              "  <tbody>\n",
              "    <tr>\n",
              "      <th>2014-01-01 08:30:00</th>\n",
              "      <td>N 56TH ST / UPLAND WAY</td>\n",
              "      <td>39.983712</td>\n",
              "      <td>-75.234188</td>\n",
              "      <td>19</td>\n",
              "      <td>31.0</td>\n",
              "      <td>black</td>\n",
              "      <td>male</td>\n",
              "      <td>0</td>\n",
              "      <td>NaN</td>\n",
              "    </tr>\n",
              "    <tr>\n",
              "      <th>2014-01-01 08:53:00</th>\n",
              "      <td>CHESTNUT ST  / S SCHUYLKILL AV W</td>\n",
              "      <td>39.953124</td>\n",
              "      <td>-75.181936</td>\n",
              "      <td>18</td>\n",
              "      <td>38.0</td>\n",
              "      <td>black</td>\n",
              "      <td>male</td>\n",
              "      <td>0</td>\n",
              "      <td>NaN</td>\n",
              "    </tr>\n",
              "    <tr>\n",
              "      <th>2014-01-01 09:00:00</th>\n",
              "      <td>N 52ND ST / GAINOR RD</td>\n",
              "      <td>39.989757</td>\n",
              "      <td>-75.229019</td>\n",
              "      <td>19</td>\n",
              "      <td>19.0</td>\n",
              "      <td>black</td>\n",
              "      <td>male</td>\n",
              "      <td>0</td>\n",
              "      <td>NaN</td>\n",
              "    </tr>\n",
              "    <tr>\n",
              "      <th>2014-01-01 09:45:00</th>\n",
              "      <td>N 56TH ST / LANCASTER AV</td>\n",
              "      <td>39.980411</td>\n",
              "      <td>-75.234049</td>\n",
              "      <td>19</td>\n",
              "      <td>44.0</td>\n",
              "      <td>black</td>\n",
              "      <td>male</td>\n",
              "      <td>0</td>\n",
              "      <td>NaN</td>\n",
              "    </tr>\n",
              "    <tr>\n",
              "      <th>2014-01-01 10:10:00</th>\n",
              "      <td>5600 BLOCK CHRISTIAN ST</td>\n",
              "      <td>39.948407</td>\n",
              "      <td>-75.235530</td>\n",
              "      <td>18</td>\n",
              "      <td>33.0</td>\n",
              "      <td>black</td>\n",
              "      <td>male</td>\n",
              "      <td>0</td>\n",
              "      <td>NaN</td>\n",
              "    </tr>\n",
              "    <tr>\n",
              "      <th>...</th>\n",
              "      <td>...</td>\n",
              "      <td>...</td>\n",
              "      <td>...</td>\n",
              "      <td>...</td>\n",
              "      <td>...</td>\n",
              "      <td>...</td>\n",
              "      <td>...</td>\n",
              "      <td>...</td>\n",
              "      <td>...</td>\n",
              "    </tr>\n",
              "    <tr>\n",
              "      <th>2017-12-31 23:40:00</th>\n",
              "      <td>300 BLOCK N 63RD ST</td>\n",
              "      <td>39.967380</td>\n",
              "      <td>-75.245838</td>\n",
              "      <td>19</td>\n",
              "      <td>63.0</td>\n",
              "      <td>black</td>\n",
              "      <td>male</td>\n",
              "      <td>0</td>\n",
              "      <td>NaN</td>\n",
              "    </tr>\n",
              "    <tr>\n",
              "      <th>2017-12-31 23:41:00</th>\n",
              "      <td>4100 BLOCK N BROAD ST</td>\n",
              "      <td>40.015354</td>\n",
              "      <td>-75.149985</td>\n",
              "      <td>39</td>\n",
              "      <td>60.0</td>\n",
              "      <td>black</td>\n",
              "      <td>female</td>\n",
              "      <td>0</td>\n",
              "      <td>NaN</td>\n",
              "    </tr>\n",
              "    <tr>\n",
              "      <th>2017-12-31 23:45:00</th>\n",
              "      <td>300 BLOCK E GURNEY ST</td>\n",
              "      <td>39.990239</td>\n",
              "      <td>-75.125950</td>\n",
              "      <td>24</td>\n",
              "      <td>34.0</td>\n",
              "      <td>hispanic</td>\n",
              "      <td>male</td>\n",
              "      <td>0</td>\n",
              "      <td>NaN</td>\n",
              "    </tr>\n",
              "    <tr>\n",
              "      <th>2017-12-31 23:50:00</th>\n",
              "      <td>4700 BLOCK D ST</td>\n",
              "      <td>40.020590</td>\n",
              "      <td>-75.116298</td>\n",
              "      <td>25</td>\n",
              "      <td>26.0</td>\n",
              "      <td>hispanic</td>\n",
              "      <td>male</td>\n",
              "      <td>1</td>\n",
              "      <td>0.0</td>\n",
              "    </tr>\n",
              "    <tr>\n",
              "      <th>2017-12-31 23:52:00</th>\n",
              "      <td>NaN</td>\n",
              "      <td>NaN</td>\n",
              "      <td>NaN</td>\n",
              "      <td>22</td>\n",
              "      <td>22.0</td>\n",
              "      <td>black</td>\n",
              "      <td>male</td>\n",
              "      <td>0</td>\n",
              "      <td>NaN</td>\n",
              "    </tr>\n",
              "  </tbody>\n",
              "</table>\n",
              "<p>1034482 rows × 9 columns</p>\n",
              "</div>"
            ],
            "text/plain": [
              "                                             location  ...  contraband_found\n",
              "date_time                                              ...                  \n",
              "2014-01-01 08:30:00            N 56TH ST / UPLAND WAY  ...               NaN\n",
              "2014-01-01 08:53:00  CHESTNUT ST  / S SCHUYLKILL AV W  ...               NaN\n",
              "2014-01-01 09:00:00             N 52ND ST / GAINOR RD  ...               NaN\n",
              "2014-01-01 09:45:00          N 56TH ST / LANCASTER AV  ...               NaN\n",
              "2014-01-01 10:10:00           5600 BLOCK CHRISTIAN ST  ...               NaN\n",
              "...                                               ...  ...               ...\n",
              "2017-12-31 23:40:00               300 BLOCK N 63RD ST  ...               NaN\n",
              "2017-12-31 23:41:00             4100 BLOCK N BROAD ST  ...               NaN\n",
              "2017-12-31 23:45:00             300 BLOCK E GURNEY ST  ...               NaN\n",
              "2017-12-31 23:50:00                   4700 BLOCK D ST  ...               0.0\n",
              "2017-12-31 23:52:00                               NaN  ...               NaN\n",
              "\n",
              "[1034482 rows x 9 columns]"
            ]
          },
          "metadata": {
            "tags": []
          },
          "execution_count": 46
        }
      ]
    },
    {
      "cell_type": "code",
      "metadata": {
        "id": "AExjao0tO9Tx",
        "colab_type": "code",
        "colab": {}
      },
      "source": [
        "file1=pd.DataFrame(df_file1)"
      ],
      "execution_count": 48,
      "outputs": []
    },
    {
      "cell_type": "code",
      "metadata": {
        "id": "mmPcsN0EQAbh",
        "colab_type": "code",
        "colab": {
          "base_uri": "https://localhost:8080/",
          "height": 168
        },
        "outputId": "04248fef-03f9-4da3-936e-2a20eef09d1a"
      },
      "source": [
        "file1.contraband_found.describe()"
      ],
      "execution_count": 28,
      "outputs": [
        {
          "output_type": "execute_result",
          "data": {
            "text/plain": [
              "count    43597.000000\n",
              "mean         0.276808\n",
              "std          0.447426\n",
              "min          0.000000\n",
              "25%          0.000000\n",
              "50%          0.000000\n",
              "75%          1.000000\n",
              "max          1.000000\n",
              "Name: contraband_found, dtype: float64"
            ]
          },
          "metadata": {
            "tags": []
          },
          "execution_count": 28
        }
      ]
    },
    {
      "cell_type": "code",
      "metadata": {
        "id": "9UvqJz3EQONa",
        "colab_type": "code",
        "colab": {
          "base_uri": "https://localhost:8080/",
          "height": 101
        },
        "outputId": "0549f3e9-4186-4999-cd94-14205803557d"
      },
      "source": [
        "file1.groupby('subject_race').key.count()"
      ],
      "execution_count": 31,
      "outputs": [
        {
          "output_type": "execute_result",
          "data": {
            "text/plain": [
              "subject_race\n",
              "black       706853\n",
              "hispanic    112315\n",
              "white       215314\n",
              "Name: key, dtype: int64"
            ]
          },
          "metadata": {
            "tags": []
          },
          "execution_count": 31
        }
      ]
    },
    {
      "cell_type": "code",
      "metadata": {
        "id": "arIsTNCzQRiH",
        "colab_type": "code",
        "colab": {
          "base_uri": "https://localhost:8080/",
          "height": 101
        },
        "outputId": "486e476c-be9f-46b2-a1ce-8374e3637a9c"
      },
      "source": [
        "file1.groupby('subject_race').search_conducted.sum()"
      ],
      "execution_count": 32,
      "outputs": [
        {
          "output_type": "execute_result",
          "data": {
            "text/plain": [
              "subject_race\n",
              "black       31030\n",
              "hispanic     4951\n",
              "white        7616\n",
              "Name: search_conducted, dtype: int64"
            ]
          },
          "metadata": {
            "tags": []
          },
          "execution_count": 32
        }
      ]
    },
    {
      "cell_type": "code",
      "metadata": {
        "id": "EZ2qoT9IQVHC",
        "colab_type": "code",
        "colab": {
          "base_uri": "https://localhost:8080/",
          "height": 101
        },
        "outputId": "63ebd829-c764-4d75-ba97-ccd9d9fc9593"
      },
      "source": [
        "file1.groupby('subject_race').contraband_found.sum()"
      ],
      "execution_count": 33,
      "outputs": [
        {
          "output_type": "execute_result",
          "data": {
            "text/plain": [
              "subject_race\n",
              "black       8411.0\n",
              "hispanic    1342.0\n",
              "white       2315.0\n",
              "Name: contraband_found, dtype: float64"
            ]
          },
          "metadata": {
            "tags": []
          },
          "execution_count": 33
        }
      ]
    },
    {
      "cell_type": "code",
      "metadata": {
        "id": "SE5zvMLEWYJ0",
        "colab_type": "code",
        "colab": {}
      },
      "source": [
        ""
      ],
      "execution_count": null,
      "outputs": []
    },
    {
      "cell_type": "code",
      "metadata": {
        "id": "sGYQZpQtQ9sC",
        "colab_type": "code",
        "colab": {}
      },
      "source": [
        "# Logistic Regression: Search Conducted v Race"
      ],
      "execution_count": null,
      "outputs": []
    },
    {
      "cell_type": "markdown",
      "metadata": {
        "id": "LEEJjfBaWQt3",
        "colab_type": "text"
      },
      "source": [
        "# **Pre-processing Section**"
      ]
    },
    {
      "cell_type": "code",
      "metadata": {
        "id": "yDb8vG3cWdD3",
        "colab_type": "code",
        "colab": {}
      },
      "source": [
        "#dummies\n",
        "dummies_district=pd.get_dummies(file1['district'],prefix='district_')\n",
        "dummies_gender=pd.get_dummies(file1['subject_sex'],prefix='gender_')\n",
        "dummies_race=pd.get_dummies(file1['subject_race'],prefix='subject_race_')\n",
        "\n",
        "\n",
        "file1=pd.concat([file1,dummies_district,dummies_gender,dummies_race],axis=1)"
      ],
      "execution_count": 57,
      "outputs": []
    },
    {
      "cell_type": "code",
      "metadata": {
        "id": "dmsj2khjXktz",
        "colab_type": "code",
        "colab": {}
      },
      "source": [
        "# feature engineering#\n",
        "#file1.date_time.hour.describe()\n",
        "file1['hour']=file1['date_time'].dt.hour\n",
        "file1['is_dark']= [1 if x >= 16 or x <=5 else 0 for x in file1['hour']]"
      ],
      "execution_count": 98,
      "outputs": []
    },
    {
      "cell_type": "code",
      "metadata": {
        "id": "gB-i5uHfdT94",
        "colab_type": "code",
        "colab": {
          "base_uri": "https://localhost:8080/",
          "height": 454
        },
        "outputId": "0fc3da2a-72cc-48b5-831c-9a70e70e5075"
      },
      "source": [
        "file1.groupby('hour').is_dark.max()"
      ],
      "execution_count": 99,
      "outputs": [
        {
          "output_type": "execute_result",
          "data": {
            "text/plain": [
              "hour\n",
              "0     1\n",
              "1     1\n",
              "2     1\n",
              "3     1\n",
              "4     1\n",
              "5     1\n",
              "6     0\n",
              "7     0\n",
              "8     0\n",
              "9     0\n",
              "10    0\n",
              "11    0\n",
              "12    0\n",
              "13    0\n",
              "14    0\n",
              "15    0\n",
              "16    1\n",
              "17    1\n",
              "18    1\n",
              "19    1\n",
              "20    1\n",
              "21    1\n",
              "22    1\n",
              "23    1\n",
              "Name: is_dark, dtype: int64"
            ]
          },
          "metadata": {
            "tags": []
          },
          "execution_count": 99
        }
      ]
    },
    {
      "cell_type": "code",
      "metadata": {
        "id": "GNYexzugQ_-c",
        "colab_type": "code",
        "colab": {}
      },
      "source": [
        "final_model=sm.logit(formula=\"search_conducted ~ subject_race\", data=file1)"
      ],
      "execution_count": 36,
      "outputs": []
    },
    {
      "cell_type": "code",
      "metadata": {
        "id": "IZwUexKbR5Eb",
        "colab_type": "code",
        "colab": {
          "base_uri": "https://localhost:8080/",
          "height": 67
        },
        "outputId": "f651de94-732e-42b7-dd13-26c350d76985"
      },
      "source": [
        "final_model=final_model.fit()"
      ],
      "execution_count": 37,
      "outputs": [
        {
          "output_type": "stream",
          "text": [
            "Optimization terminated successfully.\n",
            "         Current function value: 0.174543\n",
            "         Iterations 7\n"
          ],
          "name": "stdout"
        }
      ]
    },
    {
      "cell_type": "code",
      "metadata": {
        "id": "M-gP8adjR-CX",
        "colab_type": "code",
        "colab": {
          "base_uri": "https://localhost:8080/",
          "height": 286
        },
        "outputId": "28ffd43a-2d75-490d-ca3d-34e9e8121214"
      },
      "source": [
        "print(final_model.summary())"
      ],
      "execution_count": 38,
      "outputs": [
        {
          "output_type": "stream",
          "text": [
            "                           Logit Regression Results                           \n",
            "==============================================================================\n",
            "Dep. Variable:       search_conducted   No. Observations:              1034482\n",
            "Model:                          Logit   Df Residuals:                  1034479\n",
            "Method:                           MLE   Df Model:                            2\n",
            "Date:                Sun, 19 Jul 2020   Pseudo R-squ.:               0.0008903\n",
            "Time:                        18:13:39   Log-Likelihood:            -1.8056e+05\n",
            "converged:                       True   LL-Null:                   -1.8072e+05\n",
            "Covariance Type:            nonrobust   LLR p-value:                 1.328e-70\n",
            "============================================================================================\n",
            "                               coef    std err          z      P>|z|      [0.025      0.975]\n",
            "--------------------------------------------------------------------------------------------\n",
            "Intercept                   -3.0810      0.006   -530.678      0.000      -3.092      -3.070\n",
            "subject_race[T.hispanic]     0.0043      0.016      0.277      0.782      -0.026       0.035\n",
            "subject_race[T.white]       -0.2249      0.013    -17.255      0.000      -0.250      -0.199\n",
            "============================================================================================\n"
          ],
          "name": "stdout"
        }
      ]
    },
    {
      "cell_type": "code",
      "metadata": {
        "id": "pMW5Kds8SOjn",
        "colab_type": "code",
        "colab": {
          "base_uri": "https://localhost:8080/",
          "height": 336
        },
        "outputId": "bc0a1966-2621-48b2-faa2-37d54631bb2a"
      },
      "source": [
        "final_model2=sm.logit(formula=\"contraband_found ~ subject_race\", data=file1)\n",
        "final_model2=final_model2.fit()\n",
        "print(final_model2.summary())"
      ],
      "execution_count": 39,
      "outputs": [
        {
          "output_type": "stream",
          "text": [
            "Optimization terminated successfully.\n",
            "         Current function value: 0.589529\n",
            "         Iterations 5\n",
            "                           Logit Regression Results                           \n",
            "==============================================================================\n",
            "Dep. Variable:       contraband_found   No. Observations:                43597\n",
            "Model:                          Logit   Df Residuals:                    43594\n",
            "Method:                           MLE   Df Model:                            2\n",
            "Date:                Sun, 19 Jul 2020   Pseudo R-squ.:               0.0006511\n",
            "Time:                        18:16:30   Log-Likelihood:                -25702.\n",
            "converged:                       True   LL-Null:                       -25718.\n",
            "Covariance Type:            nonrobust   LLR p-value:                 5.343e-08\n",
            "============================================================================================\n",
            "                               coef    std err          z      P>|z|      [0.025      0.975]\n",
            "--------------------------------------------------------------------------------------------\n",
            "Intercept                   -0.9892      0.013    -77.460      0.000      -1.014      -0.964\n",
            "subject_race[T.hispanic]  -1.98e-05      0.034     -0.001      1.000      -0.067       0.067\n",
            "subject_race[T.white]        0.1608      0.028      5.743      0.000       0.106       0.216\n",
            "============================================================================================\n"
          ],
          "name": "stdout"
        }
      ]
    },
    {
      "cell_type": "code",
      "metadata": {
        "id": "8EHn9QtpWab3",
        "colab_type": "code",
        "colab": {}
      },
      "source": [
        "# controlling for district"
      ],
      "execution_count": null,
      "outputs": []
    },
    {
      "cell_type": "code",
      "metadata": {
        "id": "Yd6gZmMzWcKB",
        "colab_type": "code",
        "colab": {
          "base_uri": "https://localhost:8080/",
          "height": 353
        },
        "outputId": "0e398f4c-ed5a-44a6-d2bb-b7f95f10eb4d"
      },
      "source": [
        "\n",
        "final_model3=sm.logit(formula=\"search_conducted ~ subject_race + is_dark\", data=file1)\n",
        "final_model3=final_model3.fit()\n",
        "print(final_model3.summary())"
      ],
      "execution_count": 88,
      "outputs": [
        {
          "output_type": "stream",
          "text": [
            "Optimization terminated successfully.\n",
            "         Current function value: 0.174511\n",
            "         Iterations 7\n",
            "                           Logit Regression Results                           \n",
            "==============================================================================\n",
            "Dep. Variable:       search_conducted   No. Observations:              1034482\n",
            "Model:                          Logit   Df Residuals:                  1034478\n",
            "Method:                           MLE   Df Model:                            3\n",
            "Date:                Sun, 19 Jul 2020   Pseudo R-squ.:                0.001071\n",
            "Time:                        19:14:45   Log-Likelihood:            -1.8053e+05\n",
            "converged:                       True   LL-Null:                   -1.8072e+05\n",
            "Covariance Type:            nonrobust   LLR p-value:                 1.263e-83\n",
            "============================================================================================\n",
            "                               coef    std err          z      P>|z|      [0.025      0.975]\n",
            "--------------------------------------------------------------------------------------------\n",
            "Intercept                   -3.1298      0.008   -370.336      0.000      -3.146      -3.113\n",
            "subject_race[T.hispanic]     0.0031      0.016      0.200      0.842      -0.028       0.034\n",
            "subject_race[T.white]       -0.2163      0.013    -16.544      0.000      -0.242      -0.191\n",
            "is_dark                      0.0808      0.010      8.074      0.000       0.061       0.100\n",
            "============================================================================================\n"
          ],
          "name": "stdout"
        }
      ]
    },
    {
      "cell_type": "code",
      "metadata": {
        "id": "pKXo9lWpgCP7",
        "colab_type": "code",
        "colab": {
          "base_uri": "https://localhost:8080/",
          "height": 353
        },
        "outputId": "215d3812-59e1-490f-da09-b4e6adac53fb"
      },
      "source": [
        "final_model3=sm.logit(formula=\"contraband_found ~ subject_race + is_dark\", data=file1)\n",
        "final_model3=final_model3.fit()\n",
        "print(final_model3.summary())"
      ],
      "execution_count": 100,
      "outputs": [
        {
          "output_type": "stream",
          "text": [
            "Optimization terminated successfully.\n",
            "         Current function value: 0.589446\n",
            "         Iterations 5\n",
            "                           Logit Regression Results                           \n",
            "==============================================================================\n",
            "Dep. Variable:       contraband_found   No. Observations:                43597\n",
            "Model:                          Logit   Df Residuals:                    43593\n",
            "Method:                           MLE   Df Model:                            3\n",
            "Date:                Sun, 19 Jul 2020   Pseudo R-squ.:               0.0007930\n",
            "Time:                        19:18:29   Log-Likelihood:                -25698.\n",
            "converged:                       True   LL-Null:                       -25718.\n",
            "Covariance Type:            nonrobust   LLR p-value:                 7.253e-09\n",
            "============================================================================================\n",
            "                               coef    std err          z      P>|z|      [0.025      0.975]\n",
            "--------------------------------------------------------------------------------------------\n",
            "Intercept                   -1.0458      0.025    -42.472      0.000      -1.094      -0.998\n",
            "subject_race[T.hispanic]     0.0017      0.034      0.050      0.960      -0.066       0.069\n",
            "subject_race[T.white]        0.1698      0.028      6.023      0.000       0.115       0.225\n",
            "is_dark                      0.0702      0.026      2.693      0.007       0.019       0.121\n",
            "============================================================================================\n"
          ],
          "name": "stdout"
        }
      ]
    },
    {
      "cell_type": "code",
      "metadata": {
        "id": "GxYRsTjag9qg",
        "colab_type": "code",
        "colab": {}
      },
      "source": [
        ""
      ],
      "execution_count": null,
      "outputs": []
    }
  ]
}