{
  "nbformat": 4,
  "nbformat_minor": 0,
  "metadata": {
    "colab": {
      "name": "General Book",
      "provenance": [],
      "authorship_tag": "ABX9TyOn3QWjOSx5weui2xS4JyFc",
      "include_colab_link": true
    },
    "kernelspec": {
      "name": "python3",
      "display_name": "Python 3"
    }
  },
  "cells": [
    {
      "cell_type": "markdown",
      "metadata": {
        "id": "view-in-github",
        "colab_type": "text"
      },
      "source": [
        "<a href=\"https://colab.research.google.com/github/aneeshoberoi/cbs_ba2/blob/master/General_Book.ipynb\" target=\"_parent\"><img src=\"https://colab.research.google.com/assets/colab-badge.svg\" alt=\"Open In Colab\"/></a>"
      ]
    },
    {
      "cell_type": "code",
      "metadata": {
        "id": "DUD_00uSXdRh",
        "colab_type": "code",
        "colab": {}
      },
      "source": [
        "#Welcome to CBS BAw with Prof Guetta\n",
        "# Aim is to use Python as much as I can to get a hang of it in new/unique dataset situations"
      ],
      "execution_count": null,
      "outputs": []
    }
  ]
}